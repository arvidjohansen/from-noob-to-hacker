{
 "cells": [
  {
   "cell_type": "markdown",
   "metadata": {},
   "source": [
    "# Velkommen til Jupyter Notebook!\n",
    "\n",
    "* En notebook er som en avansert Pythonkode-fil\n",
    "  * Slutter på .ipynb istedenfor .py\n",
    "* Støtter markdown\n",
    "* Består av en eller flere celler\n",
    "  * En celle kan være enten **Markdown** eller **Python**\n",
    "\n",
    "La oss skrive litt Python-kode...\n"
   ]
  },
  {
   "cell_type": "code",
   "execution_count": 13,
   "metadata": {},
   "outputs": [
    {
     "name": "stdout",
     "output_type": "stream",
     "text": [
      "Created person Britt Nilsson (32)\n",
      "Created person Arvid Andersson (17)\n",
      "Created person Arvid Andersson (41)\n",
      "Created person Victoria Nilsson (25)\n",
      "Created person Arne Karlsson (15)\n",
      "Created person Arne Nilsson (61)\n",
      "Created person Petter Karlsson (62)\n",
      "Created person Arne Larsson (26)\n",
      "Created person Britt Nilsson (40)\n",
      "Created person Britt Nilsson (56)\n"
     ]
    }
   ],
   "source": [
    "import random\n",
    "\n",
    "NUM_PEOPLE = 10 # Number of people to generate\n",
    "FIRST_NAMES = [\"Arvid\",\"Jendor\",\"Petter\",\"Arne\",\"Victoria\",\"Alf\",\"Britt\"]\n",
    "LAST_NAMES = [\"Svensson\",\"Nilsson\",\"Karlsson\",\"Andersson\",\"Johansson\",\"Larsson\"]\n",
    "\n",
    "def generate_random_name():\n",
    "    \"\"\"Generates a random name from the lists above\"\"\"\n",
    "    return f\"{random.choice(FIRST_NAMES)} {random.choice(LAST_NAMES)}\"\n",
    "\n",
    "\n",
    "class Person():\n",
    "\n",
    "    name : str\n",
    "    age : int\n",
    "\n",
    "    def __init__(self) -> None:\n",
    "        self.name = generate_random_name()\n",
    "        self.age = random.randint(15,68)\n",
    "    def __repr__(self) -> str:\n",
    "        return f\"{self.name} ({self.age})\"\n",
    "    def __str__(self) -> str:\n",
    "        return self.__repr__()\n",
    "\n",
    "people = []\n",
    "for i in range(NUM_PEOPLE):\n",
    "    p = Person()\n",
    "    print(f\"Created person {p}\")\n",
    "    people.append(p)"
   ]
  },
  {
   "cell_type": "markdown",
   "metadata": {},
   "source": [
    "# Steg 2\n",
    "\n",
    "Hvis man kjører koden over skal det eksistere en liste med navn **people**"
   ]
  },
  {
   "cell_type": "code",
   "execution_count": 14,
   "metadata": {},
   "outputs": [
    {
     "name": "stdout",
     "output_type": "stream",
     "text": [
      "[Britt Nilsson (32), Arvid Andersson (17), Arvid Andersson (41), Victoria Nilsson (25), Arne Karlsson (15), Arne Nilsson (61), Petter Karlsson (62), Arne Larsson (26), Britt Nilsson (40), Britt Nilsson (56)]\n"
     ]
    }
   ],
   "source": [
    "print(people)"
   ]
  },
  {
   "cell_type": "markdown",
   "metadata": {},
   "source": [
    "# Oppgave: Lag en loop som skriver ut navn (og alder) på\n",
    "1. alle personene\n",
    "2. personer over 30 år\n",
    "3. alle som heter Jendor til fornavn\n",
    "4. alle som har guttenavn\n",
    "5. alle som har jentenavn"
   ]
  },
  {
   "cell_type": "code",
   "execution_count": 12,
   "metadata": {},
   "outputs": [
    {
     "name": "stdout",
     "output_type": "stream",
     "text": [
      "Personen Petter Karlsson er 48 år gammel\n",
      "Personen Jendor Svensson er 67 år gammel\n",
      "Personen Victoria Nilsson er 48 år gammel\n",
      "Personen Britt Svensson er 44 år gammel\n",
      "Personen Arne Andersson er 51 år gammel\n",
      "Personen Alf Andersson er 22 år gammel\n",
      "Personen Victoria Andersson er 50 år gammel\n",
      "Personen Alf Nilsson er 56 år gammel\n",
      "Personen Britt Nilsson er 32 år gammel\n",
      "Personen Petter Larsson er 61 år gammel\n"
     ]
    }
   ],
   "source": [
    "# Todo: Loope igenom listen og skriv ut alle personene\n",
    "\n",
    "for person in people:\n",
    "    print(f\"Personen {person.name} er {person.age} år gammel\")"
   ]
  }
 ],
 "metadata": {
  "kernelspec": {
   "display_name": "base",
   "language": "python",
   "name": "python3"
  },
  "language_info": {
   "codemirror_mode": {
    "name": "ipython",
    "version": 3
   },
   "file_extension": ".py",
   "mimetype": "text/x-python",
   "name": "python",
   "nbconvert_exporter": "python",
   "pygments_lexer": "ipython3",
   "version": "3.11.4"
  },
  "orig_nbformat": 4
 },
 "nbformat": 4,
 "nbformat_minor": 2
}
