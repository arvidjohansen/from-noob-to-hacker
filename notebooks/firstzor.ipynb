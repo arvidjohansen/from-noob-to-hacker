{
 "cells": [
  {
   "cell_type": "markdown",
   "id": "d9a32673",
   "metadata": {},
   "source": [
    "# Hello\n"
   ]
  },
  {
   "cell_type": "code",
   "execution_count": 4,
   "id": "45d3cf23",
   "metadata": {},
   "outputs": [
    {
     "name": "stdout",
     "output_type": "stream",
     "text": [
      ".git\n",
      ".gitignore\n",
      ".gitmodules\n",
      "audio\n",
      "cheatsheets\n",
      "databases\n",
      "docker\n",
      "examples\n",
      "hardware\n",
      "javascript\n",
      "math-stuff\n",
      "notebooks\n",
      "python\n",
      "q\n",
      "README.md\n",
      "regex\n",
      "software_design_principles.md\n"
     ]
    }
   ],
   "source": [
    "import os\n",
    "files = []\n",
    "tdir = os.path.pardir\n",
    "for file in os.listdir(tdir):\n",
    "    print(file)"
   ]
  },
  {
   "cell_type": "markdown",
   "id": "037328b0",
   "metadata": {},
   "source": []
  },
  {
   "cell_type": "code",
   "execution_count": 1,
   "id": "bb3bcd84",
   "metadata": {},
   "outputs": [
    {
     "name": "stdout",
     "output_type": "stream",
     "text": [
      "['In', 'Out', '_', '__', '___', '__builtin__', '__builtins__', '__doc__', '__loader__', '__name__', '__package__', '__spec__', '_dh', '_i', '_i1', '_ih', '_ii', '_iii', '_oh', 'exit', 'get_ipython', 'open', 'quit']\n"
     ]
    }
   ],
   "source": [
    "print(dir())"
   ]
  },
  {
   "cell_type": "code",
   "execution_count": null,
   "id": "36dc7ae7",
   "metadata": {},
   "outputs": [],
   "source": []
  }
 ],
 "metadata": {
  "kernelspec": {
   "display_name": "Python 3 (ipykernel)",
   "language": "python",
   "name": "python3"
  },
  "language_info": {
   "codemirror_mode": {
    "name": "ipython",
    "version": 3
   },
   "file_extension": ".py",
   "mimetype": "text/x-python",
   "name": "python",
   "nbconvert_exporter": "python",
   "pygments_lexer": "ipython3",
   "version": "3.11.3"
  }
 },
 "nbformat": 4,
 "nbformat_minor": 5
}
